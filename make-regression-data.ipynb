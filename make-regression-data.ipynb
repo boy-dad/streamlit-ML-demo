{
 "cells": [
  {
   "cell_type": "code",
   "execution_count": 1,
   "metadata": {},
   "outputs": [],
   "source": [
    "import numpy as np\n",
    "import pandas as pd\n",
    "from sklearn.datasets import make_regression"
   ]
  },
  {
   "cell_type": "code",
   "execution_count": 2,
   "metadata": {},
   "outputs": [],
   "source": [
    "X, y = make_regression(n_features=4, n_informative=4)"
   ]
  },
  {
   "cell_type": "code",
   "execution_count": 3,
   "metadata": {},
   "outputs": [],
   "source": [
    "feature_names = [\"float_feature\", \"discrete_feature\", \"toggle_feature\", \"categorical_feature\"]\n",
    "data = pd.DataFrame(X, columns=feature_names)\n",
    "data[\"target\"] = y"
   ]
  },
  {
   "cell_type": "code",
   "execution_count": 4,
   "metadata": {},
   "outputs": [],
   "source": [
    "data[\"discrete_feature\"] = pd.cut(data[\"discrete_feature\"], 4).cat.codes"
   ]
  },
  {
   "cell_type": "code",
   "execution_count": 5,
   "metadata": {},
   "outputs": [],
   "source": [
    "data[\"toggle_feature\"] = pd.cut(data[\"toggle_feature\"], 2).cat.codes\n",
    "data[\"toggle_feature\"] = data[\"toggle_feature\"].astype(str).replace({\"1\": \"Yes\", \"0\": \"No\"})"
   ]
  },
  {
   "cell_type": "code",
   "execution_count": 6,
   "metadata": {},
   "outputs": [],
   "source": [
    "n_cat = 4\n",
    "data[\"categorical_feature\"] = pd.cut(data[\"categorical_feature\"], n_cat).cat.codes\n",
    "cat_map = {str(i): f\"Category {i}\" for i in range(n_cat)}\n",
    "data[\"categorical_feature\"] = data[\"categorical_feature\"].astype(str).replace(cat_map)"
   ]
  },
  {
   "cell_type": "code",
   "execution_count": 7,
   "metadata": {},
   "outputs": [],
   "source": [
    "data.to_csv(\"sample_data.csv\", index=False)"
   ]
  },
  {
   "cell_type": "code",
   "execution_count": 8,
   "metadata": {},
   "outputs": [],
   "source": [
    "from sklearn.compose import make_column_transformer\n",
    "from sklearn.ensemble import GradientBoostingRegressor\n",
    "from sklearn.pipeline import make_pipeline\n",
    "from sklearn.preprocessing import OneHotEncoder"
   ]
  },
  {
   "cell_type": "code",
   "execution_count": 9,
   "metadata": {},
   "outputs": [],
   "source": [
    "cat_features = [\"toggle_feature\", \"categorical_feature\"]\n",
    "model = make_pipeline(\n",
    "    make_column_transformer((OneHotEncoder(), cat_features), remainder=\"passthrough\"), \n",
    "    GradientBoostingRegressor()\n",
    ")"
   ]
  },
  {
   "cell_type": "code",
   "execution_count": 10,
   "metadata": {},
   "outputs": [
    {
     "data": {
      "text/plain": [
       "array([   2.73728556,   36.0495944 ,   50.92656736,   77.02064548,\n",
       "        -63.21055864,   79.72731056,    3.66269959,   41.22668421,\n",
       "        -63.68173402,  -15.27327672,  -64.4331673 ,  -63.90381919,\n",
       "        -15.15931355,  -66.72321425,  -59.45678202,    4.13832654,\n",
       "        -74.06209811,   84.71038098,   46.31771328,   -3.43477098,\n",
       "        -20.31033646,  -49.20306842,   10.53892973,    7.1886117 ,\n",
       "        -65.08113177,  -24.56996591,  -72.11652747, -114.6209501 ,\n",
       "        -37.77857964,   -2.72790157,  -54.83087553,   59.22510545,\n",
       "        -39.04089394,  -76.35536024,   41.53536006,  -59.28802088,\n",
       "        -31.21587188,  -55.85260059,   10.24631662,   55.93973626,\n",
       "        -79.86232649,   60.18004734,  -81.89593646,  -38.91580174,\n",
       "         37.13965914,  -43.19698786,  -35.79236718,  -40.18329807,\n",
       "         86.757876  ,   41.66936052,   46.31771328,   31.76366777,\n",
       "          6.61227481, -130.64122922,  102.3604229 ,   15.9482643 ,\n",
       "         45.86102665,    2.00336267,   98.5649919 ,   10.98104037,\n",
       "         53.90525911,   86.32792039,   50.41739345,   55.85318246,\n",
       "         89.57340427,  -27.67197814,    5.3510545 ,  -50.10027869,\n",
       "         65.81878213,  -60.09615952,  -33.22672296,  -41.785189  ,\n",
       "        -68.53045763,   89.81371376,  -29.71276403, -110.30279071,\n",
       "        -71.82318201,  102.91538514,   66.69481333,  -71.00987949,\n",
       "        -69.85606791,  -24.91021788,  -51.73397207,   -7.39817177,\n",
       "        121.2115077 ,   47.65820597,  -30.20083893,   54.76563525,\n",
       "         20.6996176 ,    7.36866186,   66.20980884,   30.3459193 ,\n",
       "        -64.04744777,   75.39053774,  -61.49196289,  -44.68282107,\n",
       "         62.83360175,   -6.18172591,   93.31155854,   67.49547881])"
      ]
     },
     "execution_count": 10,
     "metadata": {},
     "output_type": "execute_result"
    }
   ],
   "source": [
    "model.fit(data[feature_names], y).predict(data[feature_names])"
   ]
  }
 ],
 "metadata": {
  "kernelspec": {
   "display_name": "streamlit-ML-demo",
   "language": "python",
   "name": "python3"
  },
  "language_info": {
   "codemirror_mode": {
    "name": "ipython",
    "version": 3
   },
   "file_extension": ".py",
   "mimetype": "text/x-python",
   "name": "python",
   "nbconvert_exporter": "python",
   "pygments_lexer": "ipython3",
   "version": "3.11.4"
  }
 },
 "nbformat": 4,
 "nbformat_minor": 2
}

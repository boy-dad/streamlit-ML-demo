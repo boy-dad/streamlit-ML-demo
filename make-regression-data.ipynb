{
 "cells": [
  {
   "cell_type": "code",
   "execution_count": 1,
   "metadata": {},
   "outputs": [],
   "source": [
    "import numpy as np\n",
    "import pandas as pd\n",
    "from sklearn.datasets import make_regression"
   ]
  },
  {
   "cell_type": "code",
   "execution_count": 2,
   "metadata": {},
   "outputs": [],
   "source": [
    "X, y = make_regression(n_features=4, n_informative=4)"
   ]
  },
  {
   "cell_type": "code",
   "execution_count": 3,
   "metadata": {},
   "outputs": [],
   "source": [
    "feature_names = [\"float_feature\", \"discrete_feature\", \"toggle_feature\", \"categorical_feature\"]\n",
    "data = pd.DataFrame(X, columns=feature_names)\n",
    "data[\"target\"] = y"
   ]
  },
  {
   "cell_type": "code",
   "execution_count": 4,
   "metadata": {},
   "outputs": [],
   "source": [
    "data[\"discrete_feature\"] = pd.cut(data[\"discrete_feature\"], 4).cat.codes"
   ]
  },
  {
   "cell_type": "code",
   "execution_count": 5,
   "metadata": {},
   "outputs": [],
   "source": [
    "data[\"toggle_feature\"] = pd.cut(data[\"toggle_feature\"], 2).cat.codes\n",
    "data[\"toggle_feature\"] = data[\"toggle_feature\"].astype(str).replace({\"1\": \"Yes\", \"0\": \"No\"})"
   ]
  },
  {
   "cell_type": "code",
   "execution_count": 6,
   "metadata": {},
   "outputs": [],
   "source": [
    "n_cat = 4\n",
    "data[\"categorical_feature\"] = pd.cut(data[\"categorical_feature\"], n_cat).cat.codes\n",
    "cat_map = {str(i): f\"Category {i}\" for i in range(n_cat)}\n",
    "data[\"categorical_feature\"] = data[\"categorical_feature\"].astype(str).replace(cat_map)"
   ]
  },
  {
   "cell_type": "code",
   "execution_count": 7,
   "metadata": {},
   "outputs": [],
   "source": [
    "data.to_csv(\"sample_data.csv\", index=False)"
   ]
  }
 ],
 "metadata": {
  "kernelspec": {
   "display_name": "streamlit-ML-demo",
   "language": "python",
   "name": "python3"
  },
  "language_info": {
   "codemirror_mode": {
    "name": "ipython",
    "version": 3
   },
   "file_extension": ".py",
   "mimetype": "text/x-python",
   "name": "python",
   "nbconvert_exporter": "python",
   "pygments_lexer": "ipython3",
   "version": "3.11.4"
  }
 },
 "nbformat": 4,
 "nbformat_minor": 2
}
